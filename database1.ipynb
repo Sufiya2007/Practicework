{
 "cells": [
  {
   "cell_type": "markdown",
   "metadata": {},
   "source": [
    "## Connecting to a database using ibm_db API"
   ]
  },
  {
   "cell_type": "markdown",
   "metadata": {},
   "source": [
    "1. Import the ibm_db Python library\n",
    "2. Enter the database connection credentials\n",
    "3. Create the database connection\n",
    "4. Close the database connection"
   ]
  },
  {
   "cell_type": "code",
   "execution_count": 2,
   "metadata": {},
   "outputs": [
    {
     "name": "stdout",
     "output_type": "stream",
     "text": [
      "Collecting ibm_db\n",
      "  Downloading ibm_db-3.0.2.tar.gz (718 kB)\n",
      "Building wheels for collected packages: ibm-db\n",
      "  Building wheel for ibm-db (setup.py): started\n",
      "  Building wheel for ibm-db (setup.py): finished with status 'done'\n",
      "  Created wheel for ibm-db: filename=ibm_db-3.0.2-py3-none-any.whl size=26239976 sha256=798a4973308173798c79cd0a4955a6ab8b6650a1aadfbf8f2103bf58c2847d5e\n",
      "  Stored in directory: c:\\users\\ppuser1\\appdata\\local\\pip\\cache\\wheels\\b9\\9e\\a1\\a31065e57e9ff030dd39da859f3f2f01b0cc1b6c1db78aabb6\n",
      "Successfully built ibm-db\n",
      "Installing collected packages: ibm-db\n",
      "Successfully installed ibm-db-3.0.2\n"
     ]
    }
   ],
   "source": [
    "!pip install ibm_db\n",
    "import ibm_db"
   ]
  },
  {
   "cell_type": "code",
   "execution_count": 21,
   "metadata": {},
   "outputs": [],
   "source": [
    "dsn_hostname = \"dashdb-txn-sbox-yp-dal09-11.services.dal.bluemix.net\"\n",
    "dsn_uid =\"zbc24124\"\n",
    "dsn_pwd = \"1r73vc75bw9rkf+4\"\n",
    "\n",
    "dsn_driver = \"{IBM DB2 ODBC DRIVER}\"\n",
    "dsn_database = \"BLUDB\"            # e.g. \"BLUDB\"\n",
    "dsn_port = \"50000\"                # e.g. \"50000\" \n",
    "dsn_protocol = \"TCPIP\"            # i.e. \"TCPIP\""
   ]
  },
  {
   "cell_type": "code",
   "execution_count": 22,
   "metadata": {},
   "outputs": [
    {
     "name": "stdout",
     "output_type": "stream",
     "text": [
      "DRIVER={IBM DB2 ODBC DRIVER};DATABASE=BLUDB;HOSTNAME=dashdb-txn-sbox-yp-dal09-11.services.dal.bluemix.net;PORT=50000;PROTOCOL=TCPIP;UID=zbc24124;PWD=1r73vc75bw9rkf+4;\n"
     ]
    }
   ],
   "source": [
    "#create the database connection\n",
    "\n",
    "dsn = (\n",
    "    \"DRIVER={0};\"\n",
    "    \"DATABASE={1};\"\n",
    "    \"HOSTNAME={2};\"\n",
    "    \"PORT={3};\"\n",
    "    \"PROTOCOL={4};\"\n",
    "    \"UID={5};\"\n",
    "    \"PWD={6};\").format(dsn_driver,dsn_database,dsn_hostname,dsn_port,dsn_protocol,dsn_uid,dsn_pwd)\n",
    "    \n",
    "    \n",
    "#print the connection string to check correct values are specified\n",
    "print(dsn)"
   ]
  },
  {
   "cell_type": "code",
   "execution_count": 23,
   "metadata": {},
   "outputs": [
    {
     "name": "stdout",
     "output_type": "stream",
     "text": [
      "connected\n"
     ]
    }
   ],
   "source": [
    "try:\n",
    "    conn = ibm_db.connect(dsn,\"\",\"\")\n",
    "    print(\"connected\")\n",
    "except:\n",
    "    print(\"Unable to connect to the database\")"
   ]
  },
  {
   "cell_type": "code",
   "execution_count": 13,
   "metadata": {},
   "outputs": [
    {
     "name": "stdout",
     "output_type": "stream",
     "text": [
      "DBMS_NAME:  DB2/LINUXX8664\n",
      "DBMS_VER:   11.01.0404\n",
      "DB_NAME:    BLUDB\n"
     ]
    }
   ],
   "source": [
    "server = ibm_db.server_info(conn)\n",
    "\n",
    "print (\"DBMS_NAME: \", server.DBMS_NAME)\n",
    "print (\"DBMS_VER:  \", server.DBMS_VER)\n",
    "print (\"DB_NAME:   \", server.DB_NAME)"
   ]
  },
  {
   "cell_type": "code",
   "execution_count": 16,
   "metadata": {},
   "outputs": [
    {
     "name": "stdout",
     "output_type": "stream",
     "text": [
      "DRIVER_NAME:  DB2CLI.DLL\n",
      "DRIVER_VER:            11.05.0400\n",
      "DATA_SOURCE_NAME:      BLUDB\n",
      "DRIVER_ODBC_VER:       03.51\n",
      "ODBC_VER:              03.01.0000\n",
      "ODBC_SQL_CONFORMANCE:  EXTENDED\n",
      "APPL_CODEPAGE:         1252\n",
      "CONN_CODEPAGE:         1208\n"
     ]
    }
   ],
   "source": [
    "client = ibm_db.client_info(conn)\n",
    "\n",
    "print(\"DRIVER_NAME: \", client.DRIVER_NAME)\n",
    "print (\"DRIVER_VER:           \", client.DRIVER_VER)\n",
    "print (\"DATA_SOURCE_NAME:     \", client.DATA_SOURCE_NAME)\n",
    "print (\"DRIVER_ODBC_VER:      \", client.DRIVER_ODBC_VER)\n",
    "print (\"ODBC_VER:             \", client.ODBC_VER)\n",
    "print (\"ODBC_SQL_CONFORMANCE: \", client.ODBC_SQL_CONFORMANCE)\n",
    "print (\"APPL_CODEPAGE:        \", client.APPL_CODEPAGE)\n",
    "print (\"CONN_CODEPAGE:        \", client.CONN_CODEPAGE)"
   ]
  },
  {
   "cell_type": "code",
   "execution_count": 17,
   "metadata": {},
   "outputs": [
    {
     "data": {
      "text/plain": [
       "True"
      ]
     },
     "execution_count": 17,
     "metadata": {},
     "output_type": "execute_result"
    }
   ],
   "source": [
    "ibm_db.close(conn)"
   ]
  },
  {
   "cell_type": "code",
   "execution_count": 25,
   "metadata": {},
   "outputs": [],
   "source": [
    "stmt = ibm_db.exec_immediate(conn,\n",
    "                             \"CREATE TABLE TRUCKS(Serial_no VARCHAR(5) PRIMARY KEY NOT NULL,Model VARCHAR(10) NOT NULL,Manufacturer VARCHAR(20) NOT NULL,Engine_size VARCHAR(20) NOT NULL,Truck_class VARCHAR(20) NOT NULL)\")"
   ]
  },
  {
   "cell_type": "code",
   "execution_count": 26,
   "metadata": {},
   "outputs": [],
   "source": [
    "stmt = ibm_db.exec_immediate(conn,\n",
    "\"INSERT INTO TRUCKS(Serial_no,Model,Manufacturer,Engine_size,Truck_class) Values ('A1234','Lonestar','international truck','Cummins 1X155','Class 8');\"\n",
    "\"INSERT INTO TRUCKS(Serial_no,Model,Manufacturer,Engine_size,Truck_class) Values ('B1234','Volvo','Volvo truck','Vovlo V11','Class 10');\"\n",
    "\"INSERT INTO TRUCKS(Serial_no,Model,Manufacturer,Engine_size,Truck_class) Values ('C1234','Kenvarth','Kenworth Trucks','Caterpillar C9','Class 9');\")"
   ]
  },
  {
   "cell_type": "code",
   "execution_count": 27,
   "metadata": {},
   "outputs": [],
   "source": [
    "stmt = ibm_db.exec_immediate(conn,\n",
    "\"INSERT INTO TRUCKS(Serial_no,Model,Manufacturer,Engine_size,Truck_class) Values ('B1234','Volvo','Volvo truck','Vovlo V11','Class 10');\")"
   ]
  },
  {
   "cell_type": "code",
   "execution_count": 28,
   "metadata": {},
   "outputs": [],
   "source": [
    "stmt = ibm_db.exec_immediate(conn,\n",
    "\"INSERT INTO TRUCKS(Serial_no,Model,Manufacturer,Engine_size,Truck_class) Values ('C1234','Kenvarth','Kenworth Trucks','Caterpillar C9','Class 9');\")"
   ]
  },
  {
   "cell_type": "code",
   "execution_count": 33,
   "metadata": {},
   "outputs": [
    {
     "data": {
      "text/plain": [
       "{'SERIAL_NO': 'A1234',\n",
       " 0: 'A1234',\n",
       " 'MODEL': 'Lonestar',\n",
       " 1: 'Lonestar',\n",
       " 'MANUFACTURER': 'international truck',\n",
       " 2: 'international truck',\n",
       " 'ENGINE_SIZE': 'Cummins 1X155',\n",
       " 3: 'Cummins 1X155',\n",
       " 'TRUCK_CLASS': 'Class 8',\n",
       " 4: 'Class 8'}"
      ]
     },
     "execution_count": 33,
     "metadata": {},
     "output_type": "execute_result"
    }
   ],
   "source": [
    "stmt = ibm_db.exec_immediate(conn,\"Select * FROM TRUCKS\")\n",
    "ibm_db.fetch_both(stmt)\n"
   ]
  },
  {
   "cell_type": "markdown",
   "metadata": {},
   "source": [
    "## Using Pandas"
   ]
  },
  {
   "cell_type": "code",
   "execution_count": 34,
   "metadata": {},
   "outputs": [
    {
     "data": {
      "text/html": [
       "<div>\n",
       "<style scoped>\n",
       "    .dataframe tbody tr th:only-of-type {\n",
       "        vertical-align: middle;\n",
       "    }\n",
       "\n",
       "    .dataframe tbody tr th {\n",
       "        vertical-align: top;\n",
       "    }\n",
       "\n",
       "    .dataframe thead th {\n",
       "        text-align: right;\n",
       "    }\n",
       "</style>\n",
       "<table border=\"1\" class=\"dataframe\">\n",
       "  <thead>\n",
       "    <tr style=\"text-align: right;\">\n",
       "      <th></th>\n",
       "      <th>SERIAL_NO</th>\n",
       "      <th>MODEL</th>\n",
       "      <th>MANUFACTURER</th>\n",
       "      <th>ENGINE_SIZE</th>\n",
       "      <th>TRUCK_CLASS</th>\n",
       "    </tr>\n",
       "  </thead>\n",
       "  <tbody>\n",
       "    <tr>\n",
       "      <th>0</th>\n",
       "      <td>A1234</td>\n",
       "      <td>Lonestar</td>\n",
       "      <td>international truck</td>\n",
       "      <td>Cummins 1X155</td>\n",
       "      <td>Class 8</td>\n",
       "    </tr>\n",
       "    <tr>\n",
       "      <th>1</th>\n",
       "      <td>B1234</td>\n",
       "      <td>Volvo</td>\n",
       "      <td>Volvo truck</td>\n",
       "      <td>Vovlo V11</td>\n",
       "      <td>Class 10</td>\n",
       "    </tr>\n",
       "    <tr>\n",
       "      <th>2</th>\n",
       "      <td>C1234</td>\n",
       "      <td>Kenvarth</td>\n",
       "      <td>Kenworth Trucks</td>\n",
       "      <td>Caterpillar C9</td>\n",
       "      <td>Class 9</td>\n",
       "    </tr>\n",
       "  </tbody>\n",
       "</table>\n",
       "</div>"
      ],
      "text/plain": [
       "  SERIAL_NO     MODEL         MANUFACTURER     ENGINE_SIZE TRUCK_CLASS\n",
       "0     A1234  Lonestar  international truck   Cummins 1X155     Class 8\n",
       "1     B1234     Volvo          Volvo truck       Vovlo V11    Class 10\n",
       "2     C1234  Kenvarth      Kenworth Trucks  Caterpillar C9     Class 9"
      ]
     },
     "execution_count": 34,
     "metadata": {},
     "output_type": "execute_result"
    }
   ],
   "source": [
    "import pandas as pd\n",
    "import ibm_db_dbi\n",
    "\n",
    "pconn = ibm_db_dbi.Connection(conn)\n",
    "df = pd.read_sql(\"Select * from Trucks\",pconn)\n",
    "df"
   ]
  },
  {
   "cell_type": "code",
   "execution_count": 38,
   "metadata": {},
   "outputs": [
    {
     "data": {
      "text/html": [
       "<div>\n",
       "<style scoped>\n",
       "    .dataframe tbody tr th:only-of-type {\n",
       "        vertical-align: middle;\n",
       "    }\n",
       "\n",
       "    .dataframe tbody tr th {\n",
       "        vertical-align: top;\n",
       "    }\n",
       "\n",
       "    .dataframe thead th {\n",
       "        text-align: right;\n",
       "    }\n",
       "</style>\n",
       "<table border=\"1\" class=\"dataframe\">\n",
       "  <thead>\n",
       "    <tr style=\"text-align: right;\">\n",
       "      <th></th>\n",
       "      <th>SERIAL_NO</th>\n",
       "      <th>MODEL</th>\n",
       "      <th>MANUFACTURER</th>\n",
       "      <th>ENGINE_SIZE</th>\n",
       "      <th>TRUCK_CLASS</th>\n",
       "    </tr>\n",
       "  </thead>\n",
       "  <tbody>\n",
       "    <tr>\n",
       "      <th>0</th>\n",
       "      <td>A1234</td>\n",
       "      <td>Lonestar</td>\n",
       "      <td>international truck</td>\n",
       "      <td>Cummins 1X155</td>\n",
       "      <td>Class 8</td>\n",
       "    </tr>\n",
       "    <tr>\n",
       "      <th>1</th>\n",
       "      <td>B1234</td>\n",
       "      <td>Volvo</td>\n",
       "      <td>Volvo truck</td>\n",
       "      <td>Vovlo V11</td>\n",
       "      <td>Class 10</td>\n",
       "    </tr>\n",
       "    <tr>\n",
       "      <th>2</th>\n",
       "      <td>C1234</td>\n",
       "      <td>Kenvarth</td>\n",
       "      <td>Kenworth Trucks</td>\n",
       "      <td>Caterpillar C9</td>\n",
       "      <td>Class 9</td>\n",
       "    </tr>\n",
       "    <tr>\n",
       "      <th>3</th>\n",
       "      <td>D1234</td>\n",
       "      <td>KSRTC</td>\n",
       "      <td>Govt Trucks</td>\n",
       "      <td>Double C9</td>\n",
       "      <td>Class 9 Haevy</td>\n",
       "    </tr>\n",
       "  </tbody>\n",
       "</table>\n",
       "</div>"
      ],
      "text/plain": [
       "  SERIAL_NO     MODEL         MANUFACTURER     ENGINE_SIZE    TRUCK_CLASS\n",
       "0     A1234  Lonestar  international truck   Cummins 1X155        Class 8\n",
       "1     B1234     Volvo          Volvo truck       Vovlo V11       Class 10\n",
       "2     C1234  Kenvarth      Kenworth Trucks  Caterpillar C9        Class 9\n",
       "3     D1234     KSRTC          Govt Trucks       Double C9  Class 9 Haevy"
      ]
     },
     "execution_count": 38,
     "metadata": {},
     "output_type": "execute_result"
    }
   ],
   "source": [
    "df = pd.read_sql(\"Select * from Trucks\",pconn)\n",
    "df"
   ]
  },
  {
   "cell_type": "code",
   "execution_count": null,
   "metadata": {},
   "outputs": [],
   "source": []
  }
 ],
 "metadata": {
  "kernelspec": {
   "display_name": "Python 3",
   "language": "python",
   "name": "python3"
  },
  "language_info": {
   "codemirror_mode": {
    "name": "ipython",
    "version": 3
   },
   "file_extension": ".py",
   "mimetype": "text/x-python",
   "name": "python",
   "nbconvert_exporter": "python",
   "pygments_lexer": "ipython3",
   "version": "3.8.3"
  }
 },
 "nbformat": 4,
 "nbformat_minor": 4
}

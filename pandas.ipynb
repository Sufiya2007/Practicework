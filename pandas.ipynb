{
 "cells": [
  {
   "cell_type": "markdown",
   "metadata": {},
   "source": [
    "# Pandas "
   ]
  },
  {
   "cell_type": "code",
   "execution_count": 25,
   "metadata": {},
   "outputs": [
    {
     "name": "stdout",
     "output_type": "stream",
     "text": [
      "      Album Release  Length\n",
      "0  Thriller    1981    1.23\n",
      "1      Blue    1982    3.20\n",
      "2      Pink    1993    1.10\n",
      "3    Orange    1982    2.10\n",
      "    Album Release  Length\n",
      "1    Blue    1982     3.2\n",
      "2    Pink    1993     1.1\n",
      "3  Orange    1982     2.1\n"
     ]
    }
   ],
   "source": [
    "import pandas as pd\n",
    "songs = {\"Album\" : [\"Thriller\",\"Blue\",\"Pink\",\"Orange\"], \"Release\" : [\"1981\", \"1982\", \"1993\",\"1982\"], \"Length\": [1.23, 3.2, 1.1, 2.1]}\n",
    "y = pd.DataFrame(songs)\n",
    "print (y)\n",
    "y['Release'].unique()\n",
    "z= y[y['Release'] > \"1981\"]\n",
    "print (z)"
   ]
  },
  {
   "cell_type": "code",
   "execution_count": 6,
   "metadata": {},
   "outputs": [
    {
     "name": "stdout",
     "output_type": "stream",
     "text": [
      "   Length Release\n",
      "0    1.23    1981\n",
      "1    3.20    1982\n",
      "2    1.10    1993\n"
     ]
    }
   ],
   "source": [
    "\n",
    "x = songs_frame[['Length','Release']]\n",
    "print (x)"
   ]
  },
  {
   "cell_type": "code",
   "execution_count": 12,
   "metadata": {},
   "outputs": [
    {
     "data": {
      "text/plain": [
       "'1993'"
      ]
     },
     "execution_count": 12,
     "metadata": {},
     "output_type": "execute_result"
    }
   ],
   "source": [
    "songs_frame.iloc[2,1]"
   ]
  },
  {
   "cell_type": "markdown",
   "metadata": {},
   "source": [
    "Save as CSV"
   ]
  },
  {
   "cell_type": "code",
   "execution_count": 27,
   "metadata": {},
   "outputs": [],
   "source": [
    "y.to_csv('new.csv')"
   ]
  },
  {
   "cell_type": "code",
   "execution_count": null,
   "metadata": {},
   "outputs": [],
   "source": []
  }
 ],
 "metadata": {
  "kernelspec": {
   "display_name": "Python 3",
   "language": "python",
   "name": "python3"
  },
  "language_info": {
   "codemirror_mode": {
    "name": "ipython",
    "version": 3
   },
   "file_extension": ".py",
   "mimetype": "text/x-python",
   "name": "python",
   "nbconvert_exporter": "python",
   "pygments_lexer": "ipython3",
   "version": "3.8.3"
  }
 },
 "nbformat": 4,
 "nbformat_minor": 4
}

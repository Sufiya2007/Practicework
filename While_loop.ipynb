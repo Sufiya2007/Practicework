{
 "cells": [
  {
   "cell_type": "markdown",
   "metadata": {},
   "source": [
    "# My new while loop program"
   ]
  },
  {
   "cell_type": "code",
   "execution_count": 19,
   "metadata": {},
   "outputs": [
    {
     "name": "stdout",
     "output_type": "stream",
     "text": [
      "0 1 2 3 4 5 6 7 8 "
     ]
    }
   ],
   "source": [
    "i= 0\n",
    "while i < 9:\n",
    "    print (i, end= \" \")\n",
    "    i = i+1"
   ]
  },
  {
   "cell_type": "markdown",
   "metadata": {},
   "source": [
    "## Program to guess random number"
   ]
  },
  {
   "cell_type": "code",
   "execution_count": 20,
   "metadata": {},
   "outputs": [
    {
     "name": "stdout",
     "output_type": "stream",
     "text": [
      "New number:1\n",
      "lesser number\n",
      "New number:4\n",
      "lesser number\n",
      "New number:8\n",
      "lesser number\n",
      "New number:19\n",
      "Larger number\n",
      "New number:15\n",
      "Larger number\n",
      "New number:14\n",
      "Congratulations you guessed it right\n"
     ]
    }
   ],
   "source": [
    "import random\n",
    "n = 20\n",
    "to_be_guessed = int (n * random.random()) + 1\n",
    "guess = 0\n",
    "\n",
    "while guess != to_be_guessed:\n",
    "    guess = int(input(\"New number:\"))\n",
    "    if guess > 0:\n",
    "        if guess < to_be_guessed:\n",
    "            print (\"lesser number\")\n",
    "        elif guess > to_be_guessed:\n",
    "            print (\"Larger number\")\n",
    "    else:\n",
    "        print (\"sorry that you are giving up\")\n",
    "        break\n",
    "else:\n",
    "    print(\"Congratulations you guessed it right\")"
   ]
  },
  {
   "cell_type": "code",
   "execution_count": null,
   "metadata": {},
   "outputs": [],
   "source": []
  },
  {
   "cell_type": "code",
   "execution_count": null,
   "metadata": {},
   "outputs": [],
   "source": []
  }
 ],
 "metadata": {
  "kernelspec": {
   "display_name": "Python 3",
   "language": "python",
   "name": "python3"
  },
  "language_info": {
   "codemirror_mode": {
    "name": "ipython",
    "version": 3
   },
   "file_extension": ".py",
   "mimetype": "text/x-python",
   "name": "python",
   "nbconvert_exporter": "python",
   "pygments_lexer": "ipython3",
   "version": "3.8.3"
  }
 },
 "nbformat": 4,
 "nbformat_minor": 4
}
